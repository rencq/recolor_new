{
 "cells": [
  {
   "cell_type": "code",
   "execution_count": null,
   "metadata": {
    "pycharm": {
     "is_executing": true
    }
   },
   "outputs": [],
   "source": [
    "import os\n",
    "import sys\n",
    "sys.path.insert(0, '../')\n",
    "import torch\n",
    "import numpy as np\n",
    "import trimesh\n",
    "from matplotlib import pyplot as plt\n",
    "from scipy.spatial import ConvexHull\n",
    "from einops import rearrange"
   ]
  },
  {
   "cell_type": "code",
   "execution_count": 2,
   "metadata": {},
   "outputs": [
    {
     "data": {
      "application/vnd.jupyter.widget-view+json": {
       "model_id": "8e41f62ea849451381dd9ca9bb1be263",
       "version_major": 2,
       "version_minor": 0
      },
      "text/plain": [
       "HTML(value='\\n<style>\\n.jupyter-widget-colortag {\\n    height: 50px;\\n}\\n.jupyter-widget-colortag i {\\n    mar…"
      ]
     },
     "execution_count": 2,
     "metadata": {},
     "output_type": "execute_result"
    }
   ],
   "source": [
    "try:\n",
    "    import piplite\n",
    "    await piplite.install(['ipywidgets'])\n",
    "except ImportError:\n",
    "    pass\n",
    "import ipywidgets as widgets\n",
    "\n",
    "widgets.HTML(\"\"\"\n",
    "<style>\n",
    ".jupyter-widget-colortag {\n",
    "    height: 50px;\n",
    "}\n",
    ".jupyter-widget-colortag i {\n",
    "    margin-left: 50px;\n",
    "}\n",
    "</style>\n",
    "\"\"\")"
   ]
  },
  {
   "cell_type": "code",
   "execution_count": 3,
   "metadata": {},
   "outputs": [],
   "source": [
    "from data import dataset_dict\n",
    "from utils.color import sort_palette, rgb2hex, hex2rgb\n",
    "from utils.vis import plot_palette_colors\n",
    "from utils.palette_utils.Additive_mixing_layers_extraction import Hull_Simplification_determined_version"
   ]
  },
  {
   "cell_type": "markdown",
   "metadata": {},
   "source": [
    "## Utils"
   ]
  },
  {
   "cell_type": "code",
   "execution_count": 4,
   "metadata": {},
   "outputs": [],
   "source": [
    "dir_basename = lambda s: os.path.basename(os.path.normpath(s))\n",
    "\n",
    "def save_palette(dir, p, suffix=''):\n",
    "    if not os.path.exists(dir):\n",
    "        os.makedirs(dir)\n",
    "    \n",
    "    path = os.path.join(dir, f'rgb_palette{\"_\" + suffix if suffix else \"\"}.npy')\n",
    "    if os.path.exists(path):\n",
    "        print(f'CANNOT save palette: {path} exists')\n",
    "        return\n",
    "    \n",
    "    np.save(path, p)\n",
    "    print('Save palette to', path)"
   ]
  },
  {
   "cell_type": "markdown",
   "metadata": {},
   "source": [
    "## Load Data"
   ]
  },
  {
   "cell_type": "code",
   "execution_count": 5,
   "metadata": {},
   "outputs": [
    {
     "name": "stderr",
     "output_type": "stream",
     "text": [
      "Loading data train (100): 100%|██████████| 100/100 [00:02<00:00, 49.18it/s]\n"
     ]
    },
    {
     "name": "stdout",
     "output_type": "stream",
     "text": [
      "800\n",
      "800\n",
      "tensor([[1., 1., 1.],\n",
      "        [1., 1., 1.],\n",
      "        [1., 1., 1.],\n",
      "        ...,\n",
      "        [1., 1., 1.],\n",
      "        [1., 1., 1.],\n",
      "        [1., 1., 1.]])\n",
      "tensor([[0.9961, 0.9961, 0.9961],\n",
      "        [1.0000, 1.0000, 0.9994],\n",
      "        [0.9940, 0.9910, 0.9870],\n",
      "        ...,\n",
      "        [0.9964, 1.0000, 1.0000],\n",
      "        [0.9985, 0.9996, 1.0000],\n",
      "        [0.9976, 0.9975, 0.9975]])\n"
     ]
    }
   ],
   "source": [
    "dataset_type = 'blender'\n",
    "datadir = '/root/autodl-tmp/nerf_data/nerf_synthetic/chair'\n",
    "outdir = os.path.join('../data_palette/', dir_basename(datadir))\n",
    "\n",
    "dataset = dataset_dict[dataset_type](datadir, split='train', downsample=8.0 if dataset_type == 'llff' else 1.0, is_stack=False)\n",
    "w, h = dataset.img_wh[0], dataset.img_wh[1]\n",
    "rgbs = dataset.all_rgbs\n",
    "print(w)\n",
    "print(h)\n",
    "print(rgbs)\n",
    "fg = None\n",
    "if dataset.white_bg:\n",
    "    fg = torch.lt(rgbs, 1.).any(dim=-1)\n",
    "    rgbs = rgbs[fg]\n",
    "    print(rgbs)\n",
    "rgbs = rgbs.to(device='cpu', dtype=torch.double).numpy()"
   ]
  },
  {
   "cell_type": "code",
   "execution_count": 6,
   "metadata": {},
   "outputs": [
    {
     "data": {
      "text/plain": [
       "(13003178, 3)"
      ]
     },
     "execution_count": 6,
     "metadata": {},
     "output_type": "execute_result"
    }
   ],
   "source": [
    "rgbs.shape"
   ]
  },
  {
   "cell_type": "markdown",
   "metadata": {},
   "source": [
    "## Create Palette"
   ]
  },
  {
   "cell_type": "code",
   "execution_count": 7,
   "metadata": {},
   "outputs": [],
   "source": [
    "error_thres = 2. / 256.\n",
    "# error_thres = 1. / 500.\n",
    "palette = Hull_Simplification_determined_version(rgbs[:w*h, ...], '', error_thres=error_thres)"
   ]
  },
  {
   "cell_type": "code",
   "execution_count": 8,
   "metadata": {},
   "outputs": [
    {
     "data": {
      "image/png": "[encoded data removed]",
      "text/plain": [
       "<Figure size 640x480 with 1 Axes>"
      ]
     },
     "metadata": {},
     "output_type": "display_data"
    },
    {
     "data": {
      "image/png": "[encoded data removed]",
      "text/plain": [
       "<Figure size 640x480 with 1 Axes>"
      ]
     },
     "metadata": {},
     "output_type": "display_data"
    },
    {
     "data": {
      "image/png": "[encoded data removed]",
      "text/plain": [
       "<Figure size 640x480 with 1 Axes>"
      ]
     },
     "metadata": {},
     "output_type": "display_data"
    },
    {
     "data": {
      "image/png": "[encoded data removed]",
      "text/plain": [
       "<Figure size 640x480 with 1 Axes>"
      ]
     },
     "metadata": {},
     "output_type": "display_data"
    }
   ],
   "source": [
    "# Run this cell to view all color convex hull vertices\n",
    "hull = ConvexHull(rgbs)\n",
    "hull_vertices = hull.points[hull.vertices]\n",
    "split_chunk_indices = np.linspace(0, len(hull_vertices), len(hull_vertices) // 10, dtype=int)\n",
    "split_chunk_indices = split_chunk_indices[1:-1]\n",
    "for hull_vtx_chunk in np.array_split(hull_vertices, split_chunk_indices):\n",
    "    plot_palette_colors(hull_vtx_chunk)"
   ]
  },
  {
   "cell_type": "code",
   "execution_count": 9,
   "metadata": {},
   "outputs": [
    {
     "data": {
      "application/vnd.jupyter.widget-view+json": {
       "model_id": "02be6b0d55154c0b95d6c363c071d4e3",
       "version_major": 2,
       "version_minor": 0
      },
      "text/plain": [
       "ColorPicker(value='#000000', description='Pick a color')"
      ]
     },
     "execution_count": 9,
     "metadata": {},
     "output_type": "execute_result"
    }
   ],
   "source": [
    "# Use this color picker if you want to pick a color among the convex hull vertices\n",
    "widgets.ColorPicker(concise=False, description=f'Pick a color', value='#000000', disabled=False)"
   ]
  },
  {
   "cell_type": "code",
   "execution_count": null,
   "metadata": {},
   "outputs": [],
   "source": []
  },
  {
   "cell_type": "code",
   "execution_count": 10,
   "metadata": {},
   "outputs": [
    {
     "name": "stdout",
     "output_type": "stream",
     "text": [
      "Original palette\n"
     ]
    },
    {
     "data": {
      "image/png": "[encoded data removed]",
      "text/plain": [
       "<Figure size 640x480 with 1 Axes>"
      ]
     },
     "metadata": {},
     "output_type": "display_data"
    }
   ],
   "source": [
    "print('Original palette')\n",
    "plot_palette_colors(palette)\n",
    "\n",
    "palette_sorted = palette"
   ]
  },
  {
   "cell_type": "code",
   "execution_count": 11,
   "metadata": {},
   "outputs": [
    {
     "name": "stdout",
     "output_type": "stream",
     "text": [
      "Drag to sort the colors in the palette\n"
     ]
    },
    {
     "data": {
      "application/vnd.jupyter.widget-view+json": {
       "model_id": "4177340327a94f1a9ccd01fe4849e198",
       "version_major": 2,
       "version_minor": 0
      },
      "text/plain": [
       "ColorsInput(value=['#a0ff5d', '#ffff82', '#ffffff', '#67ff71', '#396c09', '#f1ffff', '#007525', '#ff8936', '#0…"
      ]
     },
     "execution_count": 11,
     "metadata": {},
     "output_type": "execute_result"
    }
   ],
   "source": [
    "print('Drag to sort the colors in the palette')\n",
    "\n",
    "hex_palette = [rgb2hex(c) for c in palette_sorted]\n",
    "\n",
    "color_tags = widgets.ColorsInput(value=hex_palette)\n",
    "color_tags"
   ]
  },
  {
   "cell_type": "code",
   "execution_count": 12,
   "metadata": {},
   "outputs": [
    {
     "name": "stdout",
     "output_type": "stream",
     "text": [
      "['#a0ff5d', '#ffff82', '#ffffff', '#67ff71', '#396c09', '#f1ffff', '#007525', '#ff8936', '#000000']\n"
     ]
    }
   ],
   "source": [
    "print(hex_palette)"
   ]
  },
  {
   "cell_type": "code",
   "execution_count": 13,
   "metadata": {},
   "outputs": [
    {
     "name": "stdout",
     "output_type": "stream",
     "text": [
      "Sorted palette\n"
     ]
    },
    {
     "data": {
      "image/png": "[encoded data removed]",
      "text/plain": [
       "<Figure size 640x480 with 1 Axes>"
      ]
     },
     "metadata": {},
     "output_type": "display_data"
    }
   ],
   "source": [
    "palette_sorted = np.array([hex2rgb(cl) for cl in color_tags.value]).astype(np.float32) / 255.\n",
    "print('Sorted palette')\n",
    "plot_palette_colors(palette_sorted)"
   ]
  },
  {
   "cell_type": "code",
   "execution_count": 14,
   "metadata": {},
   "outputs": [
    {
     "name": "stdout",
     "output_type": "stream",
     "text": [
      "[[0.627451   1.         0.3647059 ]\n",
      " [1.         1.         0.50980395]\n",
      " [1.         1.         1.        ]\n",
      " [0.40392157 1.         0.44313726]\n",
      " [0.22352941 0.42352942 0.03529412]\n",
      " [0.94509804 1.         1.        ]\n",
      " [0.         0.45882353 0.14509805]\n",
      " [1.         0.5372549  0.21176471]\n",
      " [0.         0.         0.        ]]\n"
     ]
    }
   ],
   "source": [
    "print(palette_sorted)"
   ]
  },
  {
   "cell_type": "code",
   "execution_count": 15,
   "metadata": {},
   "outputs": [
    {
     "name": "stdout",
     "output_type": "stream",
     "text": [
      "CANNOT save palette: ../data_palette/chair/rgb_palette.npy exists\n"
     ]
    }
   ],
   "source": [
    "save_palette(outdir, palette_sorted)"
   ]
  },
  {
   "cell_type": "code",
   "execution_count": null,
   "metadata": {},
   "outputs": [],
   "source": []
  },
  {
   "cell_type": "markdown",
   "metadata": {},
   "source": [
    "## Visualization\n",
    "\n",
    "This section provides a very simple visualization tool, where you can roughly view the distribution of picked palette colors on input images."
   ]
  },
  {
   "cell_type": "code",
   "execution_count": 16,
   "metadata": {},
   "outputs": [],
   "source": [
    "def sort_palette_w_vis(rgbs, palette_rgb, dataset=None, fg=None, plt_vote_map_idx=0,):\n",
    "    \n",
    "    '''像素颜色属于哪个调色板'''\n",
    "    dist = rearrange(rgbs, 'N C -> N 1 C') - rearrange(palette_rgb, 'P C -> 1 P C')\n",
    "    dist = np.linalg.norm(dist, axis=-1) #2范数  相当于求像素间距离\n",
    "    dist = np.argmin(dist, axis=-1)\n",
    "    \n",
    "    \n",
    "    \n",
    "    if dataset is not None and dataset.white_bg and fg is not None:\n",
    "        all_rgb_cp = dataset.all_rgbs.clone().cpu().numpy()\n",
    "    else:\n",
    "        all_rgb_cp = rgbs.copy()\n",
    "    all_rgb_maps = all_rgb_cp.reshape(-1, h, w, 3)\n",
    "\n",
    "    # Show palette voting of pixels \n",
    "    palette_vote = palette_rgb[dist]\n",
    "    if fg is not None:\n",
    "        palette_vote_maps = all_rgb_cp.copy()\n",
    "        palette_vote_maps[fg] = palette_vote\n",
    "    else:\n",
    "        palette_vote_maps = palette_vote\n",
    "    palette_vote_maps = palette_vote_maps.reshape(-1, h, w, 3)\n",
    "    print(palette_vote_maps.shape)\n",
    "    \n",
    "    fig, axes = plt.subplots(1, 2)\n",
    "    axes[0].imshow(all_rgb_maps[plt_vote_map_idx])\n",
    "    axes[1].imshow(palette_vote_maps[plt_vote_map_idx])\n",
    "    \n",
    "    \n",
    "    \n",
    "    dist = np.bincount(dist)\n",
    "    \n",
    "    \n",
    "    \n",
    "    # Show palette distribution\n",
    "    plt.figure()\n",
    "    plt.bar(np.arange(0, len(palette_rgb)), dist, color=palette_rgb, edgecolor='black')\n",
    "    \n",
    "    \n",
    "    \n",
    "    dist = np.argsort(dist)\n",
    "\n",
    "    # bg = np.ones(3) if dataset.white_bg else np.zeros(3)\n",
    "    # palette_rgb = [tuple(a.tolist()) for a in palette_rgb[dist.cpu().numpy()] if not np.allclose(a, bg)]\n",
    "    # palette_rgb.append(tuple(bg.tolist()))\n",
    "    palette_rgb = [tuple(a) for a in palette_rgb[dist].tolist()]\n",
    "    return np.array(palette_rgb)\n"
   ]
  },
  {
   "cell_type": "code",
   "execution_count": 17,
   "metadata": {},
   "outputs": [],
   "source": [
    "from utils.color_decomposition import color_decomposition\n",
    "def plot_color_decomposition(rgbs,palette_rgb,plot_palette_color_idx=1,dataset=None,fg=None):\n",
    "    rgbs = torch.tensor(rgbs)\n",
    "    palette_rgb = torch.tensor(palette_rgb)\n",
    "    palette_number = palette_rgb.shape[0]\n",
    "    color_deco = color_decomposition(rgbs,palette_rgb) # bs * h * w\n",
    "    if dataset is not None and dataset.white_bg and fg is not None:\n",
    "        all_rgb_cp = dataset.all_rgbs.clone().cpu()\n",
    "        all_rgb_cp_original = dataset.all_rgbs.clone().cpu()\n",
    "    else:\n",
    "        all_rgb_cp = torch.clone(rgbs)\n",
    "        all_rgb_cp_original = torch.clone(rgbs)\n",
    "        \n",
    "    true_idx = (color_deco != plot_palette_color_idx) # bs * 1\n",
    "    fg[fg==True] = true_idx\n",
    "    \n",
    "    all_rgb_cp[fg] = 1.\n",
    "    \n",
    "    all_rgb_maps = torch.reshape(all_rgb_cp,(-1, h, w, 3))\n",
    "    all_rgb_cp_original = torch.reshape(all_rgb_cp_original,(-1,h,w,3))\n",
    "    \n",
    "    \n",
    "    \n",
    "    \n",
    "    fig,axes = plt.subplots(1,2)\n",
    "    axes[0].imshow(all_rgb_maps[plot_palette_color_idx].clone().numpy())\n",
    "    axes[1].imshow(all_rgb_cp_original[plot_palette_color_idx].clone().numpy())"
   ]
  },
  {
   "cell_type": "code",
   "execution_count": 18,
   "metadata": {},
   "outputs": [
    {
     "data": {
      "image/png": "[encoded data removed]",
      "text/plain": [
       "<Figure size 640x480 with 2 Axes>"
      ]
     },
     "metadata": {},
     "output_type": "display_data"
    }
   ],
   "source": [
    "plot_color_decomposition(rgbs,palette_sorted,dataset=dataset,fg=fg)"
   ]
  },
  {
   "cell_type": "code",
   "execution_count": 19,
   "metadata": {},
   "outputs": [
    {
     "data": {
      "application/vnd.jupyter.widget-view+json": {
       "model_id": "be3e69fa40934a4f8c3b98b0e6f7cb8f",
       "version_major": 2,
       "version_minor": 0
      },
      "text/plain": [
       "ColorPicker(value='#000000', description='Pick a color')"
      ]
     },
     "execution_count": 19,
     "metadata": {},
     "output_type": "execute_result"
    }
   ],
   "source": [
    "widgets.ColorPicker(concise=False, description=f'Pick a color', value='#000000', disabled=False)"
   ]
  },
  {
   "cell_type": "code",
   "execution_count": 20,
   "metadata": {},
   "outputs": [
    {
     "ename": "ValueError",
     "evalue": "shape mismatch: value array of shape (13003178,3) could not be broadcast to indexing result of shape (9869416,3)",
     "output_type": "error",
     "traceback": [
      "\u001B[0;31m---------------------------------------------------------------------------\u001B[0m",
      "\u001B[0;31mValueError\u001B[0m                                Traceback (most recent call last)",
      "Cell \u001B[0;32mIn[20], line 3\u001B[0m\n\u001B[1;32m      1\u001B[0m \u001B[38;5;66;03m# Run this cell to visualize 1-nn color distribution\u001B[39;00m\n\u001B[0;32m----> 3\u001B[0m palette_sorted_ \u001B[38;5;241m=\u001B[39m \u001B[43msort_palette_w_vis\u001B[49m\u001B[43m(\u001B[49m\u001B[43mrgbs\u001B[49m\u001B[43m,\u001B[49m\u001B[43m \u001B[49m\u001B[43mpalette_sorted\u001B[49m\u001B[43m,\u001B[49m\u001B[43m \u001B[49m\u001B[43mdataset\u001B[49m\u001B[38;5;241;43m=\u001B[39;49m\u001B[43mdataset\u001B[49m\u001B[43m,\u001B[49m\u001B[43m \u001B[49m\u001B[43mfg\u001B[49m\u001B[38;5;241;43m=\u001B[39;49m\u001B[43mfg\u001B[49m\u001B[43m,\u001B[49m\u001B[43m \u001B[49m\u001B[43mplt_vote_map_idx\u001B[49m\u001B[38;5;241;43m=\u001B[39;49m\u001B[38;5;241;43m1\u001B[39;49m\u001B[43m)\u001B[49m\n\u001B[1;32m      4\u001B[0m plot_palette_colors(palette_sorted_)\n",
      "Cell \u001B[0;32mIn[16], line 20\u001B[0m, in \u001B[0;36msort_palette_w_vis\u001B[0;34m(rgbs, palette_rgb, dataset, fg, plt_vote_map_idx)\u001B[0m\n\u001B[1;32m     18\u001B[0m \u001B[38;5;28;01mif\u001B[39;00m fg \u001B[38;5;129;01mis\u001B[39;00m \u001B[38;5;129;01mnot\u001B[39;00m \u001B[38;5;28;01mNone\u001B[39;00m:\n\u001B[1;32m     19\u001B[0m     palette_vote_maps \u001B[38;5;241m=\u001B[39m all_rgb_cp\u001B[38;5;241m.\u001B[39mcopy()\n\u001B[0;32m---> 20\u001B[0m     \u001B[43mpalette_vote_maps\u001B[49m\u001B[43m[\u001B[49m\u001B[43mfg\u001B[49m\u001B[43m]\u001B[49m \u001B[38;5;241m=\u001B[39m palette_vote\n\u001B[1;32m     21\u001B[0m \u001B[38;5;28;01melse\u001B[39;00m:\n\u001B[1;32m     22\u001B[0m     palette_vote_maps \u001B[38;5;241m=\u001B[39m palette_vote\n",
      "\u001B[0;31mValueError\u001B[0m: shape mismatch: value array of shape (13003178,3) could not be broadcast to indexing result of shape (9869416,3)"
     ]
    }
   ],
   "source": [
    "# Run this cell to visualize 1-nn color distribution\n",
    "\n",
    "palette_sorted_ = sort_palette_w_vis(rgbs, palette_sorted, dataset=dataset, fg=fg, plt_vote_map_idx=1)\n",
    "plot_palette_colors(palette_sorted_)"
   ]
  },
  {
   "cell_type": "code",
   "execution_count": null,
   "metadata": {},
   "outputs": [],
   "source": []
  },
  {
   "cell_type": "code",
   "execution_count": null,
   "metadata": {},
   "outputs": [],
   "source": []
  }
 ],
 "metadata": {
  "kernelspec": {
   "name": "recolor_new",
   "language": "python",
   "display_name": "recolor_new"
  },
  "language_info": {
   "codemirror_mode": {
    "name": "ipython",
    "version": 3
   },
   "file_extension": ".py",
   "mimetype": "text/x-python",
   "name": "python",
   "nbconvert_exporter": "python",
   "pygments_lexer": "ipython3",
   "version": "3.8.16"
  },
  "vscode": {
   "interpreter": {
    "hash": "3e9fbb684c6692f9adab6114b782038a5025000b5f4b58eb9d35859579031213"
   }
  }
 },
 "nbformat": 4,
 "nbformat_minor": 4
}
